{
 "cells": [
  {
   "cell_type": "code",
   "execution_count": 1,
   "id": "63b08ea1-cf03-4a4c-96d1-8b53ab29d1cc",
   "metadata": {},
   "outputs": [],
   "source": [
    "from napari import Viewer\n",
    "from tifffile import imread\n",
    "import numpy as np\n",
    "\n",
    "from skimage import io, filters, measure, morphology, segmentation\n",
    "\n",
    "import pandas as pd\n",
    "\n",
    "from matplotlib import pyplot as plt"
   ]
  },
  {
   "cell_type": "code",
   "execution_count": 2,
   "id": "45f72026-a811-4f4a-9b36-d94711f47a40",
   "metadata": {},
   "outputs": [],
   "source": [
    "file = '../raw_data/BBBC001_v1_images_tif/human_ht29_colon_cancer_1_images/AS_09125_050118150001_A03f00d0.tif'"
   ]
  },
  {
   "cell_type": "code",
   "execution_count": 3,
   "id": "866fa8c3-38e9-4b13-a2eb-6a2e92fb93be",
   "metadata": {},
   "outputs": [],
   "source": [
    "image = imread(file)"
   ]
  },
  {
   "cell_type": "code",
   "execution_count": 4,
   "id": "1f8e5feb-96f5-45cb-a065-a73075ad3b69",
   "metadata": {},
   "outputs": [
    {
     "name": "stdout",
     "output_type": "stream",
     "text": [
      "(512, 512) uint8\n"
     ]
    }
   ],
   "source": [
    "print(image.shape, image.dtype)"
   ]
  },
  {
   "cell_type": "code",
   "execution_count": 5,
   "id": "0280de7f-d202-47a3-a08b-909962c6a822",
   "metadata": {},
   "outputs": [],
   "source": [
    "viewer = Viewer()"
   ]
  },
  {
   "cell_type": "code",
   "execution_count": 6,
   "id": "c8aae7c6-60b7-4ae9-a518-a9e6c2e0b6c1",
   "metadata": {},
   "outputs": [
    {
     "data": {
      "text/plain": [
       "<Image layer 'image' at 0x7f36782824b0>"
      ]
     },
     "execution_count": 6,
     "metadata": {},
     "output_type": "execute_result"
    }
   ],
   "source": [
    "viewer.add_image(image)"
   ]
  },
  {
   "cell_type": "code",
   "execution_count": 7,
   "id": "1f927ff2-965f-409f-bbef-573f8392a553",
   "metadata": {},
   "outputs": [],
   "source": [
    "# Step 1: Apply Otsu's thresholding\n",
    "threshold_value = filters.threshold_otsu(image)\n",
    "binary_image = image > threshold_value"
   ]
  },
  {
   "cell_type": "code",
   "execution_count": 8,
   "id": "cbe8db3a-43e8-4bdd-9661-2c0bcb038bef",
   "metadata": {},
   "outputs": [],
   "source": [
    "# Step 2: Remove small objects/noise if necessary\n",
    "binary_image_cleaned = morphology.remove_small_objects(binary_image, min_size=64)\n",
    "# Step 3: Fill holes within the binary mask\n",
    "binary_image_filled = morphology.remove_small_holes(binary_image_cleaned, area_threshold=64)"
   ]
  },
  {
   "cell_type": "code",
   "execution_count": 9,
   "id": "c695e228-69a4-40cf-bd54-c5c0eb039943",
   "metadata": {},
   "outputs": [],
   "source": [
    "# Step 3: Label the connected components (nuclei)\n",
    "labeled_image = segmentation.clear_border(measure.label(binary_image_filled))"
   ]
  },
  {
   "cell_type": "code",
   "execution_count": 10,
   "id": "28c933a0-53d6-4f30-9c4c-b9ed9ad1a279",
   "metadata": {},
   "outputs": [
    {
     "data": {
      "text/plain": [
       "<Labels layer 'labeled_image' at 0x7f36546978f0>"
      ]
     },
     "execution_count": 10,
     "metadata": {},
     "output_type": "execute_result"
    }
   ],
   "source": [
    "viewer.add_labels(labeled_image)"
   ]
  },
  {
   "cell_type": "code",
   "execution_count": 11,
   "id": "ea0b47dd-839e-4be6-89c6-9879428bb7a1",
   "metadata": {},
   "outputs": [],
   "source": [
    "properties = measure.regionprops_table(labeled_image, intensity_image=image, \n",
    "                                       properties=['label', 'area', 'mean_intensity'])\n",
    "\n",
    "# Convert to pandas DataFrame for easy export\n",
    "properties_df = pd.DataFrame(properties)"
   ]
  },
  {
   "cell_type": "code",
   "execution_count": 12,
   "id": "a2a03607-4802-4f54-82e6-2167ab4e6c6c",
   "metadata": {},
   "outputs": [
    {
     "data": {
      "text/html": [
       "<div>\n",
       "<style scoped>\n",
       "    .dataframe tbody tr th:only-of-type {\n",
       "        vertical-align: middle;\n",
       "    }\n",
       "\n",
       "    .dataframe tbody tr th {\n",
       "        vertical-align: top;\n",
       "    }\n",
       "\n",
       "    .dataframe thead th {\n",
       "        text-align: right;\n",
       "    }\n",
       "</style>\n",
       "<table border=\"1\" class=\"dataframe\">\n",
       "  <thead>\n",
       "    <tr style=\"text-align: right;\">\n",
       "      <th></th>\n",
       "      <th>label</th>\n",
       "      <th>area</th>\n",
       "      <th>mean_intensity</th>\n",
       "    </tr>\n",
       "  </thead>\n",
       "  <tbody>\n",
       "    <tr>\n",
       "      <th>0</th>\n",
       "      <td>3</td>\n",
       "      <td>82.0</td>\n",
       "      <td>42.621951</td>\n",
       "    </tr>\n",
       "    <tr>\n",
       "      <th>1</th>\n",
       "      <td>4</td>\n",
       "      <td>77.0</td>\n",
       "      <td>79.948052</td>\n",
       "    </tr>\n",
       "    <tr>\n",
       "      <th>2</th>\n",
       "      <td>5</td>\n",
       "      <td>135.0</td>\n",
       "      <td>67.733333</td>\n",
       "    </tr>\n",
       "    <tr>\n",
       "      <th>3</th>\n",
       "      <td>6</td>\n",
       "      <td>91.0</td>\n",
       "      <td>42.000000</td>\n",
       "    </tr>\n",
       "    <tr>\n",
       "      <th>4</th>\n",
       "      <td>7</td>\n",
       "      <td>164.0</td>\n",
       "      <td>56.518293</td>\n",
       "    </tr>\n",
       "    <tr>\n",
       "      <th>...</th>\n",
       "      <td>...</td>\n",
       "      <td>...</td>\n",
       "      <td>...</td>\n",
       "    </tr>\n",
       "    <tr>\n",
       "      <th>273</th>\n",
       "      <td>282</td>\n",
       "      <td>85.0</td>\n",
       "      <td>52.435294</td>\n",
       "    </tr>\n",
       "    <tr>\n",
       "      <th>274</th>\n",
       "      <td>283</td>\n",
       "      <td>93.0</td>\n",
       "      <td>60.279570</td>\n",
       "    </tr>\n",
       "    <tr>\n",
       "      <th>275</th>\n",
       "      <td>284</td>\n",
       "      <td>80.0</td>\n",
       "      <td>58.600000</td>\n",
       "    </tr>\n",
       "    <tr>\n",
       "      <th>276</th>\n",
       "      <td>285</td>\n",
       "      <td>153.0</td>\n",
       "      <td>75.228758</td>\n",
       "    </tr>\n",
       "    <tr>\n",
       "      <th>277</th>\n",
       "      <td>286</td>\n",
       "      <td>110.0</td>\n",
       "      <td>49.254545</td>\n",
       "    </tr>\n",
       "  </tbody>\n",
       "</table>\n",
       "<p>278 rows × 3 columns</p>\n",
       "</div>"
      ],
      "text/plain": [
       "     label   area  mean_intensity\n",
       "0        3   82.0       42.621951\n",
       "1        4   77.0       79.948052\n",
       "2        5  135.0       67.733333\n",
       "3        6   91.0       42.000000\n",
       "4        7  164.0       56.518293\n",
       "..     ...    ...             ...\n",
       "273    282   85.0       52.435294\n",
       "274    283   93.0       60.279570\n",
       "275    284   80.0       58.600000\n",
       "276    285  153.0       75.228758\n",
       "277    286  110.0       49.254545\n",
       "\n",
       "[278 rows x 3 columns]"
      ]
     },
     "execution_count": 12,
     "metadata": {},
     "output_type": "execute_result"
    }
   ],
   "source": [
    "properties_df"
   ]
  },
  {
   "cell_type": "code",
   "execution_count": 13,
   "id": "16c03baa-d8c4-40a2-a655-932e7d3fd08b",
   "metadata": {},
   "outputs": [],
   "source": [
    "properties_df.to_csv('measurements.csv', index=False)"
   ]
  },
  {
   "cell_type": "code",
   "execution_count": null,
   "id": "f0d1aab4-a1f0-464a-8dd5-c28e7a2b331e",
   "metadata": {},
   "outputs": [],
   "source": []
  }
 ],
 "metadata": {
  "kernelspec": {
   "display_name": "Python 3 (ipykernel)",
   "language": "python",
   "name": "python3"
  },
  "language_info": {
   "codemirror_mode": {
    "name": "ipython",
    "version": 3
   },
   "file_extension": ".py",
   "mimetype": "text/x-python",
   "name": "python",
   "nbconvert_exporter": "python",
   "pygments_lexer": "ipython3",
   "version": "3.12.0"
  }
 },
 "nbformat": 4,
 "nbformat_minor": 5
}
