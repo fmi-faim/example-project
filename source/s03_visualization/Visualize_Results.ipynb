{
 "cells": [
  {
   "cell_type": "markdown",
   "id": "cbcfacdd-4cc4-471a-a786-9ae91448f40c",
   "metadata": {},
   "source": [
    "# Visualize Results"
   ]
  },
  {
   "cell_type": "code",
   "execution_count": null,
   "id": "f920d9ae-2a6a-4568-ab35-962c8cc0203a",
   "metadata": {},
   "outputs": [],
   "source": [
    "from napari import Viewer\n",
    "import sys\n",
    "from faim_ipa.utils import get_git_root\n",
    "\n",
    "sys.path.append(str(get_git_root()))\n",
    "\n",
    "from source.s03_visualization.visualization_utils import select_data, load_data\n",
    "\n",
    "viewer = Viewer()"
   ]
  },
  {
   "cell_type": "code",
   "execution_count": null,
   "id": "fdc9ee7d-f810-4f1d-93d2-16ff3365baf0",
   "metadata": {},
   "outputs": [],
   "source": [
    "exp_widget, img_widget = select_data()"
   ]
  },
  {
   "cell_type": "code",
   "execution_count": null,
   "id": "9df9119e-00e9-4871-a9fc-7f524e7404f4",
   "metadata": {},
   "outputs": [],
   "source": [
    "img, seg, measurements = load_data(exp_widget, img_widget)"
   ]
  },
  {
   "cell_type": "code",
   "execution_count": null,
   "id": "f09aba40-8fce-45b9-9579-8aa066130130",
   "metadata": {},
   "outputs": [],
   "source": [
    "viewer.layers.clear()\n",
    "viewer.add_image(img, name=img_widget.value)\n",
    "viewer.add_labels(seg, name=f\"Segmentation - {img_widget.value}\", features=measurements)"
   ]
  }
 ],
 "metadata": {
  "kernelspec": {
   "display_name": "Python 3 (ipykernel)",
   "language": "python",
   "name": "python3"
  },
  "language_info": {
   "codemirror_mode": {
    "name": "ipython",
    "version": 3
   },
   "file_extension": ".py",
   "mimetype": "text/x-python",
   "name": "python",
   "nbconvert_exporter": "python",
   "pygments_lexer": "ipython3",
   "version": "3.12.0"
  }
 },
 "nbformat": 4,
 "nbformat_minor": 5
}
